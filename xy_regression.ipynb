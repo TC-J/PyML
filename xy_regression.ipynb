{
 "cells": [
  {
   "cell_type": "markdown",
   "metadata": {},
   "source": [
    "### XY Dataset Regression Problems\n",
    "\n"
   ]
  },
  {
   "cell_type": "markdown",
   "metadata": {},
   "source": [
    "Imports"
   ]
  },
  {
   "cell_type": "code",
   "execution_count": null,
   "metadata": {},
   "outputs": [],
   "source": [
    "import numpy as np\n",
    "\n",
    "import torch\n",
    "\n",
    "from rich.pretty import pprint\n",
    "\n",
    "import matplotlib.pyplot as plt\n",
    "\n",
    "from pyml.ds import XYDataset\n",
    "from pyml.ds.generic import GenericDataset, generic_split_dataset\n",
    "from pyml.mlp import MLP\n",
    "from pyml.supervision import hypervise_mlp\n",
    "from pyml.ds.util import dataset_min_max, dataset_mean_std\n",
    "\n",
    "import ipywidgets as widgets\n",
    "\n",
    "torch.manual_seed(50)"
   ]
  },
  {
   "cell_type": "markdown",
   "metadata": {},
   "source": [
    "##### $f_{x}$"
   ]
  },
  {
   "cell_type": "markdown",
   "metadata": {},
   "source": [
    "_1. create the dataset and split it into two_ `GenericDataset`_s; one for training, the other for testing._"
   ]
  },
  {
   "cell_type": "markdown",
   "metadata": {},
   "source": [
    "_2. provide the loss-function, optimizer class, datasets; model-hidden-layers and hidden-layers' size; activation, dropouts, thresholds, learning-rate, batch-size and the rest--if any--of the keyword-arguments for the optimizer-instantiation, using the _`hypervise_mlp`_ function._"
   ]
  },
  {
   "cell_type": "code",
   "execution_count": null,
   "metadata": {},
   "outputs": [
    {
     "ename": "AttributeError",
     "evalue": "module 'torch.nn' has no attribute 'Adam'",
     "output_type": "error",
     "traceback": [
      "\u001b[1;31m---------------------------------------------------------------------------\u001b[0m",
      "\u001b[1;31mAttributeError\u001b[0m                            Traceback (most recent call last)",
      "Cell \u001b[1;32mIn[44], line 12\u001b[0m\n\u001b[0;32m      1\u001b[0m \u001b[38;5;129m@widgets\u001b[39m\u001b[38;5;241m.\u001b[39minteract_manual(\n\u001b[0;32m      2\u001b[0m     fx\u001b[38;5;241m=\u001b[39m[\u001b[38;5;124m\"\u001b[39m\u001b[38;5;124mx\u001b[39m\u001b[38;5;124m\"\u001b[39m, \u001b[38;5;124m\"\u001b[39m\u001b[38;5;124m2*x\u001b[39m\u001b[38;5;124m\"\u001b[39m, \u001b[38;5;124m\"\u001b[39m\u001b[38;5;124mx**2\u001b[39m\u001b[38;5;124m\"\u001b[39m],\n\u001b[0;32m      3\u001b[0m     domain_start \u001b[38;5;241m=\u001b[39m widgets\u001b[38;5;241m.\u001b[39mIntText(value\u001b[38;5;241m=\u001b[39m\u001b[38;5;241m-\u001b[39m\u001b[38;5;241m100\u001b[39m),\n\u001b[0;32m      4\u001b[0m     domain_end \u001b[38;5;241m=\u001b[39m widgets\u001b[38;5;241m.\u001b[39mIntText(value\u001b[38;5;241m=\u001b[39m\u001b[38;5;241m100\u001b[39m),\n\u001b[0;32m      5\u001b[0m     H\u001b[38;5;241m=\u001b[39mwidgets\u001b[38;5;241m.\u001b[39mIntText(value\u001b[38;5;241m=\u001b[39m\u001b[38;5;241m10\u001b[39m),\n\u001b[0;32m      6\u001b[0m     Hn\u001b[38;5;241m=\u001b[39mwidgets\u001b[38;5;241m.\u001b[39mIntText(value\u001b[38;5;241m=\u001b[39m\u001b[38;5;241m1\u001b[39m),\n\u001b[0;32m      7\u001b[0m     interval\u001b[38;5;241m=\u001b[39mwidgets\u001b[38;5;241m.\u001b[39mFloatText(value\u001b[38;5;241m=\u001b[39m\u001b[38;5;241m0.1\u001b[39m),\n\u001b[0;32m      8\u001b[0m     epochs\u001b[38;5;241m=\u001b[39mwidgets\u001b[38;5;241m.\u001b[39mIntText(value\u001b[38;5;241m=\u001b[39m\u001b[38;5;241m50\u001b[39m),\n\u001b[0;32m      9\u001b[0m     lr\u001b[38;5;241m=\u001b[39mwidgets\u001b[38;5;241m.\u001b[39mFloatText(value\u001b[38;5;241m=\u001b[39m\u001b[38;5;241m1e-3\u001b[39m),\n\u001b[0;32m     10\u001b[0m     loss_fn\u001b[38;5;241m=\u001b[39m{\u001b[38;5;124m\"\u001b[39m\u001b[38;5;124mmse\u001b[39m\u001b[38;5;124m\"\u001b[39m: torch\u001b[38;5;241m.\u001b[39mnn\u001b[38;5;241m.\u001b[39mMSELoss(), \u001b[38;5;124m\"\u001b[39m\u001b[38;5;124ml1\u001b[39m\u001b[38;5;124m\"\u001b[39m: torch\u001b[38;5;241m.\u001b[39mnn\u001b[38;5;241m.\u001b[39mL1Loss(), \u001b[38;5;124m\"\u001b[39m\u001b[38;5;124msmoothl1\u001b[39m\u001b[38;5;124m\"\u001b[39m: torch\u001b[38;5;241m.\u001b[39mnn\u001b[38;5;241m.\u001b[39mSmoothL1Loss(), \u001b[38;5;124m\"\u001b[39m\u001b[38;5;124mhuber\u001b[39m\u001b[38;5;124m\"\u001b[39m: torch\u001b[38;5;241m.\u001b[39mnn\u001b[38;5;241m.\u001b[39mHuberLoss()},\n\u001b[0;32m     11\u001b[0m     activation\u001b[38;5;241m=\u001b[39m{\u001b[38;5;124m\"\u001b[39m\u001b[38;5;124mrelu\u001b[39m\u001b[38;5;124m\"\u001b[39m: torch\u001b[38;5;241m.\u001b[39mnn\u001b[38;5;241m.\u001b[39mReLU(), \u001b[38;5;124m\"\u001b[39m\u001b[38;5;124mleaky-relu\u001b[39m\u001b[38;5;124m\"\u001b[39m: torch\u001b[38;5;241m.\u001b[39mnn\u001b[38;5;241m.\u001b[39mLeakyReLU()},\n\u001b[1;32m---> 12\u001b[0m     optim\u001b[38;5;241m=\u001b[39m{\u001b[38;5;124m\"\u001b[39m\u001b[38;5;124msgd\u001b[39m\u001b[38;5;124m\"\u001b[39m: torch\u001b[38;5;241m.\u001b[39moptim\u001b[38;5;241m.\u001b[39mSGD, \u001b[38;5;124m\"\u001b[39m\u001b[38;5;124madam\u001b[39m\u001b[38;5;124m\"\u001b[39m: \u001b[43mtorch\u001b[49m\u001b[38;5;241;43m.\u001b[39;49m\u001b[43mnn\u001b[49m\u001b[38;5;241;43m.\u001b[39;49m\u001b[43mAdam\u001b[49m}\n\u001b[0;32m     13\u001b[0m )\n\u001b[0;32m     14\u001b[0m \u001b[38;5;28;01mdef\u001b[39;00m \u001b[38;5;21mrun\u001b[39m(\n\u001b[0;32m     15\u001b[0m     fx \u001b[38;5;241m=\u001b[39m \u001b[38;5;124m\"\u001b[39m\u001b[38;5;124mx\u001b[39m\u001b[38;5;124m\"\u001b[39m,\n\u001b[0;32m     16\u001b[0m     domain_start\u001b[38;5;241m=\u001b[39m\u001b[38;5;241m-\u001b[39m\u001b[38;5;241m1_000\u001b[39m,\n\u001b[0;32m     17\u001b[0m     domain_end\u001b[38;5;241m=\u001b[39m\u001b[38;5;241m1_000\u001b[39m,\n\u001b[0;32m     18\u001b[0m     H\u001b[38;5;241m=\u001b[39m\u001b[38;5;241m10\u001b[39m,\n\u001b[0;32m     19\u001b[0m     Hn\u001b[38;5;241m=\u001b[39m\u001b[38;5;241m2\u001b[39m,\n\u001b[0;32m     20\u001b[0m     interval\u001b[38;5;241m=\u001b[39m\u001b[38;5;241m0.1\u001b[39m,\n\u001b[0;32m     21\u001b[0m     epochs\u001b[38;5;241m=\u001b[39m\u001b[38;5;241m50\u001b[39m,\n\u001b[0;32m     22\u001b[0m     lr\u001b[38;5;241m=\u001b[39m\u001b[38;5;241m0.001\u001b[39m,\n\u001b[0;32m     23\u001b[0m     loss_fn\u001b[38;5;241m=\u001b[39m\u001b[38;5;124m\"\u001b[39m\u001b[38;5;124ml1\u001b[39m\u001b[38;5;124m\"\u001b[39m,\n\u001b[0;32m     24\u001b[0m     activation\u001b[38;5;241m=\u001b[39m\u001b[38;5;124m\"\u001b[39m\u001b[38;5;124mrelu\u001b[39m\u001b[38;5;124m\"\u001b[39m,\n\u001b[0;32m     25\u001b[0m     optim\u001b[38;5;241m=\u001b[39m\u001b[38;5;124m\"\u001b[39m\u001b[38;5;124msgd\u001b[39m\u001b[38;5;124m\"\u001b[39m\n\u001b[0;32m     26\u001b[0m ):\n\u001b[0;32m     27\u001b[0m     fn \u001b[38;5;241m=\u001b[39m \u001b[38;5;28meval\u001b[39m(\u001b[38;5;124m\"\u001b[39m\u001b[38;5;124mlambda x:\u001b[39m\u001b[38;5;124m\"\u001b[39m \u001b[38;5;241m+\u001b[39m fx)\n\u001b[0;32m     28\u001b[0m     \u001b[38;5;28mprint\u001b[39m(activation, optim, loss_fn)\n",
      "\u001b[1;31mAttributeError\u001b[0m: module 'torch.nn' has no attribute 'Adam'"
     ]
    }
   ],
   "source": [
    "\n",
    "\n",
    "@widgets.interact_manual(\n",
    "    fx={\"x\": lambda x: x, \"2*x\": lambda x: 2*x, \"x**2\": lambda x: x**2},\n",
    "    domain_start = widgets.IntText(value=-100),\n",
    "    domain_end = widgets.IntText(value=100),\n",
    "    H=widgets.IntText(value=10),\n",
    "    Hn=widgets.IntText(value=1),\n",
    "    interval=widgets.FloatText(value=0.1),\n",
    "    epochs=widgets.IntText(value=50),\n",
    "    lr=widgets.FloatText(value=1e-3),\n",
    "    loss_fn={\"mse\": torch.nn.MSELoss(), \"l1\": torch.nn.L1Loss(), \"smoothl1\": torch.nn.SmoothL1Loss(), \"huber\": torch.nn.HuberLoss()},\n",
    "    activation={\"relu\": torch.nn.ReLU(), \"leaky-relu\": torch.nn.LeakyReLU()},\n",
    "    optim={\"sgd\": torch.optim.SGD, \"adam\": torch.optim.Adam}\n",
    ")\n",
    "def run(\n",
    "    fx = \"x\",\n",
    "    domain_start=-1_000,\n",
    "    domain_end=1_000,\n",
    "    H=10,\n",
    "    Hn=2,\n",
    "    interval=0.1,\n",
    "    epochs=50,\n",
    "    lr=0.001,\n",
    "    loss_fn=\"l1\",\n",
    "    activation=\"relu\",\n",
    "    optim=\"sgd\"\n",
    "):\n",
    "    xy_dataset = XYDataset(\n",
    "        fn=fx,\n",
    "        domain=[(domain_start, domain_end)],\n",
    "    )\n",
    "\n",
    "    xy_train_ds, xy_test_ds = generic_split_dataset(\n",
    "        dataset=xy_dataset,\n",
    "        test_split=0.2,\n",
    "        transforms=None,\n",
    "        feat_transforms=None,\n",
    "        targ_transforms=None\n",
    "    )\n",
    "\n",
    "    xy_model, results= hypervise_mlp(\n",
    "        loss_fn=loss_fn,\n",
    "        optim_cls=optim,\n",
    "        train_dataset=xy_train_ds,\n",
    "        test_dataset=xy_test_ds,\n",
    "        Hn=Hn,\n",
    "        H=H,\n",
    "        activation=activation,\n",
    "        dropouts=None,\n",
    "        thresholds=None,\n",
    "        dtype=torch.float32,\n",
    "        track_interval=interval,\n",
    "        epochs=epochs,\n",
    "        batch_size=256,\n",
    "        lr=lr\n",
    "    )\n",
    "\n",
    "    results[[\"interval_loss\", \"loss\", \"test_interval_loss\", \"test_loss\"]].plot()"
   ]
  }
 ],
 "metadata": {
  "kernelspec": {
   "display_name": "pyml-FV_H_BQZ-py3.12",
   "language": "python",
   "name": "python3"
  },
  "language_info": {
   "codemirror_mode": {
    "name": "ipython",
    "version": 3
   },
   "file_extension": ".py",
   "mimetype": "text/x-python",
   "name": "python",
   "nbconvert_exporter": "python",
   "pygments_lexer": "ipython3",
   "version": "3.12.4"
  }
 },
 "nbformat": 4,
 "nbformat_minor": 2
}
