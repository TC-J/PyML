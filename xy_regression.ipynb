{
 "cells": [
  {
   "cell_type": "markdown",
   "metadata": {},
   "source": [
    "### XY Dataset Regression Problems\n",
    "\n"
   ]
  },
  {
   "cell_type": "markdown",
   "metadata": {},
   "source": [
    "Imports"
   ]
  },
  {
   "cell_type": "code",
   "execution_count": null,
   "metadata": {},
   "outputs": [],
   "source": [
    "import numpy as np\n",
    "\n",
    "import torch\n",
    "\n",
    "from rich.pretty import pprint\n",
    "\n",
    "import matplotlib.pyplot as plt\n",
    "\n",
    "from pyml.ds import XYDataset\n",
    "from pyml.ds.generic import GenericDataset, generic_split_dataset\n",
    "from pyml.mlp import MLP\n",
    "from pyml.supervision import hypervise_mlp\n",
    "from pyml.ds.util import dataset_min_max, dataset_mean_std\n",
    "\n",
    "import ipywidgets as widgets\n",
    "\n",
    "torch.manual_seed(50)"
   ]
  },
  {
   "cell_type": "markdown",
   "metadata": {},
   "source": [
    "##### $f_{x}$"
   ]
  },
  {
   "cell_type": "markdown",
   "metadata": {},
   "source": [
    "_1. create the dataset and split it into two_ `GenericDataset`_s; one for training, the other for testing._"
   ]
  },
  {
   "cell_type": "markdown",
   "metadata": {},
   "source": [
    "_2. provide the loss-function, optimizer class, datasets; model-hidden-layers and hidden-layers' size; activation, dropouts, thresholds, learning-rate, batch-size and the rest--if any--of the keyword-arguments for the optimizer-instantiation, using the _`hypervise_mlp`_ function._"
   ]
  },
  {
   "cell_type": "code",
   "execution_count": null,
   "metadata": {},
   "outputs": [],
   "source": [
    "@widgets.interact(\n",
    "    fx={\"x\": lambda x: x, \"2*x\": lambda x: 2*x, \"x**2\": lambda x: x**2},\n",
    "    domain_start = widgets.IntText(value=-25),\n",
    "    domain_end = widgets.IntText(value=25),\n",
    "    H=widgets.IntText(value=10),\n",
    "    Hn=widgets.IntText(value=1),\n",
    "    interval=widgets.FloatText(value=0.1),\n",
    "    epochs=widgets.IntText(value=50),\n",
    "    lr=widgets.FloatText(value=1e-3),\n",
    "    loss_fn={\"mse\": torch.nn.MSELoss, \"l1\": torch.nn.L1Loss, \"smoothl1\": torch.nn.SmoothL1Loss, \"huber\": torch.nn.HuberLoss},\n",
    "    activation={\"relu\": torch.nn.ReLU(), \"leaky-relu\": torch.nn.LeakyReLU()},\n",
    "    optim={\"sgd\": torch.optim.SGD, \"adam\": torch.optim.Adam}\n",
    ")\n",
    "\n",
    "def run(\n",
    "    fx = \"x\",\n",
    "    domain_start=-25,\n",
    "    domain_end=25,\n",
    "    H=10,\n",
    "    Hn=2,\n",
    "    interval=0.1,\n",
    "    epochs=50,\n",
    "    lr=1e-3,\n",
    "    loss_fn=\"l1\",\n",
    "    activation=\"relu\",\n",
    "    optim=\"sgd\"\n",
    "):\n",
    "    xy_dataset = XYDataset(\n",
    "        fn=fx,\n",
    "        domain=[(domain_start, domain_end)],\n",
    "    )\n",
    "\n",
    "    xy_train_ds, xy_test_ds = generic_split_dataset(\n",
    "        dataset=xy_dataset,\n",
    "        test_split=0.2,\n",
    "        transforms=None,\n",
    "        feat_transforms=None,\n",
    "        targ_transforms=None\n",
    "    )\n",
    "\n",
    "    xy_model, result = hypervise_mlp(\n",
    "        loss_fn_cls=loss_fn,\n",
    "        optim_cls=optim,\n",
    "        train_dataset=xy_train_ds,\n",
    "        test_dataset=xy_test_ds,\n",
    "        Hn=Hn,\n",
    "        H=H,\n",
    "        activation=activation,\n",
    "        dropouts=None,\n",
    "        thresholds=None,\n",
    "        dtype=torch.float32,\n",
    "        track_interval=interval,\n",
    "        epochs=epochs,\n",
    "        batch_size=256,\n",
    "        shuffle=True,\n",
    "        lr=lr\n",
    "    )\n",
    "\n",
    "    pprint(result)\n",
    "   # result[[\"interval-loss\", \"loss\", \"interval-loss-test\", \"loss-test\"]].diff().plot()"
   ]
  }
 ],
 "metadata": {
  "kernelspec": {
   "display_name": "pyml-FV_H_BQZ-py3.12",
   "language": "python",
   "name": "python3"
  },
  "language_info": {
   "codemirror_mode": {
    "name": "ipython",
    "version": 3
   },
   "file_extension": ".py",
   "mimetype": "text/x-python",
   "name": "python",
   "nbconvert_exporter": "python",
   "pygments_lexer": "ipython3",
   "version": "3.12.4"
  }
 },
 "nbformat": 4,
 "nbformat_minor": 2
}
