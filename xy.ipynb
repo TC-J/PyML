{
 "cells": [
  {
   "cell_type": "markdown",
   "metadata": {},
   "source": [
    "X^2 Curve"
   ]
  },
  {
   "cell_type": "code",
   "execution_count": null,
   "metadata": {},
   "outputs": [
    {
     "name": "stdout",
     "output_type": "stream",
     "text": [
      "([tensor(-10.)], [tensor(9.)], [tensor(0.)], [tensor(81.)])\n"
     ]
    }
   ],
   "source": [
    "import numpy\n",
    "\n",
    "import torch\n",
    "\n",
    "from pyml.ds import XYDataset, XYZDataset\n",
    "from pyml.ds.generic import GenericDataset\n",
    "from pyml.mlp import MLP\n",
    "from pyml.supervision import hypervise_mlp\n",
    "from pyml.ds.util import dataset_min_max\n",
    "\n",
    "torch.manual_seed(100)\n",
    "\n",
    "# Datasets\n",
    "dataset = XYDataset(\n",
    "    fn=lambda x: x**2,\n",
    "    domain=[(-1000, 1000)]\n",
    ")\n",
    "\n",
    "\n",
    "\n",
    "_v = dataset_min_max(dataset)\n",
    "\n",
    "print(_v)\n",
    "\n",
    "#test_dataset = XYDataset(\n",
    "    #fn=lambda x: x**2,\n",
    "    #domain=[-7, 0, 7]\n",
    "#)"
   ]
  }
 ],
 "metadata": {
  "kernelspec": {
   "display_name": "pyml-FV_H_BQZ-py3.12",
   "language": "python",
   "name": "python3"
  },
  "language_info": {
   "codemirror_mode": {
    "name": "ipython",
    "version": 3
   },
   "file_extension": ".py",
   "mimetype": "text/x-python",
   "name": "python",
   "nbconvert_exporter": "python",
   "pygments_lexer": "ipython3",
   "version": "3.12.4"
  }
 },
 "nbformat": 4,
 "nbformat_minor": 2
}
